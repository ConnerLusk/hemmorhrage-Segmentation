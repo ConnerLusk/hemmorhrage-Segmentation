{
 "cells": [
  {
   "cell_type": "code",
   "execution_count": 1,
   "id": "55a0d1db-12aa-47d2-bd0d-691b66b4c6fa",
   "metadata": {},
   "outputs": [],
   "source": [
    "import pandas as pd\n",
    "import numpy as np\n",
    "import matplotlib\n",
    "from matplotlib import pyplot as plt\n",
    "import glob\n",
    "from sklearn.model_selection import train_test_split\n",
    "import seaborn as sns\n",
    "from sklearn.linear_model import LogisticRegression\n",
    "from sklearn.metrics import confusion_matrix\n",
    "import tensorflow as tf\n",
    "from tensorflow import keras\n",
    "from tensorflow.keras.callbacks import EarlyStopping\n",
    "from tensorflow.keras import layers, callbacks\n",
    "import os\n",
    "from tensorflow.keras.models import Sequential\n",
    "from tensorflow.keras.layers import Dense, Activation, Dropout, Flatten, MaxPooling2D\n",
    "from tensorflow.keras.layers import Conv2D "
   ]
  },
  {
   "cell_type": "code",
   "execution_count": null,
   "id": "c7d4aea6-b2ca-47e1-9eb7-9de48602fc12",
   "metadata": {},
   "outputs": [
    {
     "name": "stdout",
     "output_type": "stream",
     "text": [
      "Epoch 1/100\n",
      "1933/1933 [==============================] - 1725s 892ms/step - loss: 1.5772 - accuracy: 0.3573 - val_loss: 1.5439 - val_accuracy: 0.3715\n",
      "Epoch 2/100\n",
      "1933/1933 [==============================] - 2365s 1s/step - loss: 1.5156 - accuracy: 0.3879 - val_loss: 1.5071 - val_accuracy: 0.3972\n",
      "Epoch 3/100\n",
      "1933/1933 [==============================] - 2375s 1s/step - loss: 1.4890 - accuracy: 0.4001 - val_loss: 1.4985 - val_accuracy: 0.4067\n",
      "Epoch 4/100\n",
      "1933/1933 [==============================] - 2402s 1s/step - loss: 1.4703 - accuracy: 0.4123 - val_loss: 1.5317 - val_accuracy: 0.3655\n",
      "Epoch 5/100\n",
      " 798/1933 [===========>..................] - ETA: 21:09 - loss: 1.4602 - accuracy: 0.4139"
     ]
    }
   ],
   "source": [
    "history = new_model.fit(x_train, \n",
    "                    y_train, \n",
    "                    epochs=100, \n",
    "                    verbose=1,\n",
    "                    validation_data=(x_valid, y_valid),\n",
    "                       callbacks=[early_stopping_cb])"
   ]
  },
  {
   "cell_type": "code",
   "execution_count": 2,
   "id": "90e92244-2075-44e6-b77b-5eacca59e6ce",
   "metadata": {},
   "outputs": [],
   "source": [
    "data = np.load('/home/lusk.c/XN_project/data.npy')\n",
    "data /= 255\n",
    "y =  np.load('/home/lusk.c/XN_project/y.npy')"
   ]
  },
  {
   "cell_type": "code",
   "execution_count": 3,
   "id": "c0e91e25-9f70-4b8c-8bac-86764725e3c9",
   "metadata": {},
   "outputs": [],
   "source": [
    "x_train, x_valid, y_train, y_valid = train_test_split(data, y, test_size=0.1, random_state=0)"
   ]
  },
  {
   "cell_type": "code",
   "execution_count": 4,
   "id": "b2d55475-8499-4373-a68c-5e5239bd546c",
   "metadata": {},
   "outputs": [
    {
     "name": "stdout",
     "output_type": "stream",
     "text": [
      "Model: \"sequential\"\n",
      "_________________________________________________________________\n",
      " Layer (type)                Output Shape              Param #   \n",
      "=================================================================\n",
      " conv2d (Conv2D)             (None, 506, 506, 32)      1600      \n",
      "                                                                 \n",
      " max_pooling2d (MaxPooling2D  (None, 253, 253, 32)     0         \n",
      " )                                                               \n",
      "                                                                 \n",
      " conv2d_1 (Conv2D)           (None, 251, 251, 32)      9248      \n",
      "                                                                 \n",
      " max_pooling2d_1 (MaxPooling  (None, 125, 125, 32)     0         \n",
      " 2D)                                                             \n",
      "                                                                 \n",
      " dropout (Dropout)           (None, 125, 125, 32)      0         \n",
      "                                                                 \n",
      " flatten (Flatten)           (None, 500000)            0         \n",
      "                                                                 \n",
      " dense (Dense)               (None, 40)                20000040  \n",
      "                                                                 \n",
      " dropout_1 (Dropout)         (None, 40)                0         \n",
      "                                                                 \n",
      " dense_1 (Dense)             (None, 7)                 287       \n",
      "                                                                 \n",
      "=================================================================\n",
      "Total params: 20,011,175\n",
      "Trainable params: 20,011,175\n",
      "Non-trainable params: 0\n",
      "_________________________________________________________________\n",
      "None\n"
     ]
    }
   ],
   "source": [
    "model = Sequential()\n",
    "\n",
    "model.add(Conv2D(32, (7,7),\n",
    "                 padding='valid',\n",
    "                 input_shape=(512, 512,1),\n",
    "                 activation='relu'))\n",
    "model.add(MaxPooling2D(pool_size=(2,2)))\n",
    "model.add(Conv2D(32, (3,3),\n",
    "                 activation='relu'))\n",
    "model.add(MaxPooling2D(pool_size=(2,2)))\n",
    "model.add(Dropout(0.25))\n",
    " \n",
    "model.add(Flatten())\n",
    "model.add(Dense(units=40, activation='relu'))\n",
    "model.add(Dropout(0.1))\n",
    "model.add(Dense(units=7, activation='softmax'))\n",
    "\n",
    "model.compile(loss='categorical_crossentropy',\n",
    "              optimizer='rmsprop',\n",
    "              metrics=['accuracy'])\n",
    "\n",
    "print(model.summary())"
   ]
  },
  {
   "cell_type": "code",
   "execution_count": 5,
   "id": "f67dc03b-86c3-4273-bf41-fb752130f456",
   "metadata": {},
   "outputs": [
    {
     "data": {
      "text/plain": [
       "[<keras.layers.convolutional.Conv2D at 0x2abd3b074970>,\n",
       " <keras.layers.pooling.MaxPooling2D at 0x2abd3b0749d0>,\n",
       " <keras.layers.convolutional.Conv2D at 0x2ae1e7f45130>,\n",
       " <keras.layers.pooling.MaxPooling2D at 0x2abd3b074a00>,\n",
       " <keras.layers.core.dropout.Dropout at 0x2ae1e7f78ca0>,\n",
       " <keras.layers.core.flatten.Flatten at 0x2ae1e7f455b0>,\n",
       " <keras.layers.core.dense.Dense at 0x2ae1e7fb4d90>,\n",
       " <keras.layers.core.dropout.Dropout at 0x2ae1e7fb4f40>,\n",
       " <keras.layers.core.dense.Dense at 0x2ae1fbe29100>]"
      ]
     },
     "execution_count": 5,
     "metadata": {},
     "output_type": "execute_result"
    }
   ],
   "source": [
    "model.layers"
   ]
  },
  {
   "cell_type": "code",
   "execution_count": 6,
   "id": "3cf66f33-983c-492b-8061-4ebbfc4f2359",
   "metadata": {},
   "outputs": [],
   "source": [
    "model.compile(loss=\"sparse_categorical_crossentropy\",\n",
    "             optimizer=\"sgd\",\n",
    "             metrics=[\"accuracy\"])"
   ]
  },
  {
   "cell_type": "code",
   "execution_count": 7,
   "id": "7d0ff51c-34a1-4eda-86cd-ad095b3b5728",
   "metadata": {},
   "outputs": [],
   "source": [
    "keras.backend.clear_session()\n",
    "np.random.seed(42)\n",
    "tf.random.set_seed(42)"
   ]
  },
  {
   "cell_type": "code",
   "execution_count": 8,
   "id": "b376630c-4819-454d-bf0a-8b6117083cb2",
   "metadata": {},
   "outputs": [
    {
     "data": {
      "text/plain": [
       "'./my_mnist_logs/run_001'"
      ]
     },
     "execution_count": 8,
     "metadata": {},
     "output_type": "execute_result"
    }
   ],
   "source": [
    "run_index = 1 # increment this at every run\n",
    "run_logdir = os.path.join(os.curdir, \"my_mnist_logs\", \"run_{:03d}\".format(run_index))\n",
    "run_logdir"
   ]
  },
  {
   "cell_type": "code",
   "execution_count": 9,
   "id": "2a147101-fe83-4903-b593-1534aafd9ce2",
   "metadata": {},
   "outputs": [
    {
     "name": "stdout",
     "output_type": "stream",
     "text": [
      "Epoch 1/8\n",
      "2113/2113 [==============================] - 9459s 4s/step - loss: 1.8164 - accuracy: 0.2572 - val_loss: 1.7545 - val_accuracy: 0.2840\n",
      "Epoch 2/8\n",
      "2113/2113 [==============================] - 9482s 4s/step - loss: 1.6549 - accuracy: 0.3475 - val_loss: 1.6403 - val_accuracy: 0.3593\n",
      "Epoch 3/8\n",
      "2113/2113 [==============================] - 9855s 5s/step - loss: 1.4373 - accuracy: 0.4500 - val_loss: 1.4482 - val_accuracy: 0.4486\n",
      "Epoch 4/8\n",
      "2113/2113 [==============================] - 9927s 5s/step - loss: 1.2008 - accuracy: 0.5510 - val_loss: 1.3794 - val_accuracy: 0.4877\n",
      "Epoch 5/8\n",
      "2113/2113 [==============================] - 9887s 5s/step - loss: 0.9927 - accuracy: 0.6319 - val_loss: 1.2361 - val_accuracy: 0.5521\n",
      "Epoch 6/8\n",
      "2113/2113 [==============================] - 10202s 5s/step - loss: 0.8153 - accuracy: 0.7025 - val_loss: 1.1366 - val_accuracy: 0.5985\n",
      "Epoch 7/8\n",
      "2113/2113 [==============================] - 10285s 5s/step - loss: 0.6711 - accuracy: 0.7565 - val_loss: 1.2191 - val_accuracy: 0.5927\n",
      "Epoch 8/8\n",
      "2113/2113 [==============================] - 10314s 5s/step - loss: 0.5500 - accuracy: 0.8027 - val_loss: 1.2005 - val_accuracy: 0.6260\n"
     ]
    }
   ],
   "source": [
    "early_stopping_cb = keras.callbacks.EarlyStopping(\n",
    "    min_delta=0.01, # minimium amount of change to count as an improvement\n",
    "    patience=5, # how many epochs to wait before stopping\n",
    ")\n",
    "checkpoint_cb = keras.callbacks.ModelCheckpoint(\"my_mnist_model.h5\", save_best_only=True)\n",
    "tensorboard_cb = keras.callbacks.TensorBoard(run_logdir)\n",
    "\n",
    "history = model.fit(x_train, y_train, epochs=8, verbose=1,\n",
    "                    validation_data=(x_valid, y_valid),\n",
    "                    callbacks=[checkpoint_cb, early_stopping_cb, tensorboard_cb])"
   ]
  },
  {
   "cell_type": "code",
   "execution_count": 10,
   "id": "13764df9-8609-4050-8ba8-81b3e6f297a8",
   "metadata": {},
   "outputs": [
    {
     "data": {
      "image/png": "[encoded data removed]",
      "text/plain": [
       "<Figure size 432x288 with 1 Axes>"
      ]
     },
     "metadata": {
      "needs_background": "light"
     },
     "output_type": "display_data"
    },
    {
     "data": {
      "text/plain": [
       "<Figure size 432x288 with 0 Axes>"
      ]
     },
     "metadata": {},
     "output_type": "display_data"
    }
   ],
   "source": [
    "plt.plot(history.history['accuracy'])\n",
    "plt.plot(history.history['val_accuracy'])\n",
    "plt.title('model accuracy')\n",
    "plt.ylabel('accuracy')\n",
    "plt.xlabel('epoch')\n",
    "plt.legend(['train', 'test'], loc='upper left')\n",
    "plt.show()\n",
    "plt.savefig('2layerCNN.jpg')"
   ]
  },
  {
   "cell_type": "code",
   "execution_count": 11,
   "id": "5633b0b5-d4b2-4318-8e1f-cae377be1061",
   "metadata": {},
   "outputs": [],
   "source": [
    "model.save(\"2layerCNN.h5\")"
   ]
  }
 ],
 "metadata": {
  "kernelspec": {
   "display_name": "Python 3",
   "language": "python",
   "name": "python3"
  },
  "language_info": {
   "codemirror_mode": {
    "name": "ipython",
    "version": 3
   },
   "file_extension": ".py",
   "mimetype": "text/x-python",
   "name": "python",
   "nbconvert_exporter": "python",
   "pygments_lexer": "ipython3",
   "version": "3.8.8"
  }
 },
 "nbformat": 4,
 "nbformat_minor": 5
}
