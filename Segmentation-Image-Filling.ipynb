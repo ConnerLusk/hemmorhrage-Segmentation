{
 "cells": [
  {
   "cell_type": "code",
   "execution_count": 1,
   "id": "4bc9e42a",
   "metadata": {},
   "outputs": [],
   "source": [
    "import numpy as np\n",
    "from matplotlib import pyplot as plt\n",
    "import matplotlib\n",
    "from skimage.transform import resize\n",
    "from scipy.ndimage.interpolation import shift\n",
    "import pandas as pd\n",
    "import regex as re\n",
    "import random"
   ]
  },
  {
   "cell_type": "code",
   "execution_count": 2,
   "id": "a26dc21a",
   "metadata": {},
   "outputs": [],
   "source": [
    "df = pd.read_csv (r'/Users/connerlusk/Desktop/Segmentation2/cleaned_data.csv')\n",
    "test = df[\"Correct Label\"][100]"
   ]
  },
  {
   "cell_type": "code",
   "execution_count": 3,
   "id": "762e5659",
   "metadata": {},
   "outputs": [],
   "source": [
    "#cleans the inputed dirty string and cleans it\n",
    "def clean_string(string_of_labels):\n",
    "    list_of_numbers = [int(s) for s in re.findall(r'\\b\\d+\\b', string_of_labels)]\n",
    "    removed_zeros = []\n",
    "    for element in list_of_numbers:\n",
    "        if element !=0:\n",
    "            element = str(element)\n",
    "            element = \"0.\" + element\n",
    "            removed_zeros.append(float(element))\n",
    "    return [int(element * 255) for element in removed_zeros]"
   ]
  },
  {
   "cell_type": "code",
   "execution_count": 4,
   "id": "885536e9",
   "metadata": {},
   "outputs": [],
   "source": [
    "# creates a copy of the list where each number is 5 times larger\n",
    "def increase_image_size(list_of_ints):\n",
    "    return [int(element * 5) for element in list_of_ints]"
   ]
  },
  {
   "cell_type": "code",
   "execution_count": 5,
   "id": "d339de3f",
   "metadata": {},
   "outputs": [],
   "source": [
    "#creates a dictionary with either x or ys as the key\n",
    "def create_dict(direction, list_of_coordinate):\n",
    "    final_dict = {}\n",
    "    iterations = 0\n",
    "    if direction == \"x\":\n",
    "        while iterations < len(list_of_coordinate):\n",
    "            key = list_of_coordinate[iterations]\n",
    "            value = list_of_coordinate[iterations + 1]\n",
    "            if key in final_dict:\n",
    "                final_dict[key].append(value)\n",
    "                iterations += 2\n",
    "            else:\n",
    "                final_dict[key] = [value]\n",
    "                iterations +=2\n",
    "    else:\n",
    "        while iterations < len(list_of_coordinate):\n",
    "            value = list_of_coordinate[iterations]\n",
    "            key = list_of_coordinate[iterations + 1]\n",
    "            if key in final_dict:\n",
    "                final_dict[key].append(value)\n",
    "                iterations += 2\n",
    "            else:\n",
    "                final_dict[key] = [value]\n",
    "                iterations +=2\n",
    "    return final_dict"
   ]
  },
  {
   "cell_type": "code",
   "execution_count": 6,
   "id": "54576cf8",
   "metadata": {},
   "outputs": [],
   "source": [
    "# tells whether there is a gap in the data\n",
    "def is_gap(array):\n",
    "    iteration = 0\n",
    "    array_return = []\n",
    "    while iteration < len(array)-1:\n",
    "        y1 = array[iteration]\n",
    "        y2 = array[iteration + 1]\n",
    "        if abs(y1 - y2) > 30:\n",
    "            array_return.append(int((y1+y2)/2))\n",
    "        iteration +=1\n",
    "    return array_return"
   ]
  },
  {
   "cell_type": "code",
   "execution_count": 7,
   "id": "4285b905",
   "metadata": {},
   "outputs": [],
   "source": [
    "#makes a dictioary with the gaps in the data\n",
    "def find_gap(x_dict, y_dict):\n",
    "    dict_split_vals = {\"x_coor\":[],\"y_coor\":[]}\n",
    "    dict_split_vals[\"x_coor\"].extend(is_gap(sorted(y_dict)))\n",
    "    dict_split_vals[\"y_coor\"].extend(is_gap(sorted(x_dict)))\n",
    "    return dict_split_vals"
   ]
  },
  {
   "cell_type": "code",
   "execution_count": 8,
   "id": "393ba8a6",
   "metadata": {},
   "outputs": [],
   "source": [
    "# splits an image\n",
    "def split_image(dictionary, image,dict_name):\n",
    "    coordinate = int(dictionary[dict_name][0]/5)\n",
    "    shape = image.shape\n",
    "    columns = shape[0]\n",
    "    row = shape[1]\n",
    "    if dict_name == \"x_coor\":\n",
    "        new_image = image[:,0:coordinate]\n",
    "        new_image2 = image[:,coordinate::]\n",
    "        size = [(coordinate,columns),(row-coordinate,columns)]\n",
    "    else:\n",
    "        new_image = image[0:coordinate,:]\n",
    "        new_image2 = image[coordinate::,:]\n",
    "        size = [(columns,coordinate),(row-columns,row-coordinate)]\n",
    "    return [new_image,new_image2], size"
   ]
  },
  {
   "cell_type": "code",
   "execution_count": 9,
   "id": "32f617d8",
   "metadata": {},
   "outputs": [],
   "source": [
    "#gives images and split images if needed\n",
    "def split_images(dictionary_of_gaps,image):\n",
    "    images = []\n",
    "    x_images = []\n",
    "    y_images = []\n",
    "    size = []\n",
    "    if len(dictionary_of_gaps[\"x_coor\"]) + len(dictionary_of_gaps[\"y_coor\"]) == 0:\n",
    "        images.append(image)\n",
    "        size.append(image.shape)\n",
    "    elif len(dictionary_of_gaps[\"x_coor\"]) > 0:\n",
    "        return_images = split_image(dictionary_of_gaps,image,\"x_coor\")\n",
    "        images.extend(return_images[0])\n",
    "        size.extend(return_images[1])\n",
    "    elif len(dictionary_of_gaps[\"x_coor\"]) > 0 and len(dictionary_of_gaps[\"y_coor\"]) > 0:\n",
    "        for x_image in x_images:\n",
    "            return_images = split_image(dictionary_of_gaps,x_image,\"y_coor\")\n",
    "            images.extend(return_images[0])\n",
    "            size.extend(return_images[1])\n",
    "    elif len(dictionary_of_gaps[\"y_coor\"]) > 0:\n",
    "        return_images = split_image(dictionary_of_gaps,image,\"y_coor\")\n",
    "        images.extend(return_images[0])\n",
    "        size.extend(return_images[1])\n",
    "    return images,size"
   ]
  },
  {
   "cell_type": "code",
   "execution_count": 10,
   "id": "5626d3e9",
   "metadata": {},
   "outputs": [],
   "source": [
    "# changes an array to a list\n",
    "def array_to_list(array):\n",
    "    flatten = array.flatten()\n",
    "    column = array.shape[1]\n",
    "    end = array.size\n",
    "    counter = 0\n",
    "    end_list = []\n",
    "    while counter < end:\n",
    "        if flatten[counter] == 1:\n",
    "            x = counter // column\n",
    "            y = counter % column\n",
    "            end_list.append(x)\n",
    "            end_list.append(y)\n",
    "        counter +=1\n",
    "    return end_list"
   ]
  },
  {
   "cell_type": "code",
   "execution_count": 11,
   "id": "62f085de",
   "metadata": {},
   "outputs": [],
   "source": [
    "# changes a list to a dictionary\n",
    "def list_to_dictionary(a_list):\n",
    "    dictionary = {}\n",
    "    iters = 0\n",
    "    while iters < len(a_list):\n",
    "        y = a_list[iters]\n",
    "        x = a_list[iters+1]\n",
    "        if x in dictionary:\n",
    "            dictionary[x].append(y)\n",
    "            iters +=2\n",
    "        else:\n",
    "            dictionary[x] = [y]\n",
    "            iters +=2\n",
    "    return dictionary"
   ]
  },
  {
   "cell_type": "code",
   "execution_count": 12,
   "id": "d4ca1d2c",
   "metadata": {},
   "outputs": [],
   "source": [
    "# adds skipped values to a dictionary\n",
    "def add_empty(dictionary):\n",
    "    start = min(dictionary)\n",
    "    end = max(dictionary)\n",
    "    while start < end:\n",
    "        if start not in dictionary:\n",
    "            dictionary[start] = []\n",
    "        start +=1\n",
    "    return dictionary"
   ]
  },
  {
   "cell_type": "code",
   "execution_count": 13,
   "id": "8d32cb6a",
   "metadata": {},
   "outputs": [],
   "source": [
    "# fills the boundary of an image\n",
    "def fill_boundary(dictionary):\n",
    "    start = min(dictionary) + 1\n",
    "    end = max(dictionary)\n",
    "    while start <= end:\n",
    "        if start == min(dictionary) + 1:\n",
    "            if len(dictionary[start]) == 1:\n",
    "                prev_value = dictionary[min(dictionary)][0]\n",
    "                dif = prev_value - dictionary[start][0]\n",
    "                if dif > 0:\n",
    "                    dictionary[start].append(prev_value - dif)\n",
    "                else:\n",
    "                    dictionary[start].append(prev_value + dif)\n",
    "            if len(dictionary[start]) ==0:\n",
    "                dictionary[start].append(dictionary[min(dictionary)][0] + 3)\n",
    "                dictionary[start].append(dictionary[min(dictionary)][0] - 3)\n",
    "        elif start == max(dictionary):\n",
    "            min_prev = min(dictionary[start-1])\n",
    "            max_prev = max(dictionary[start-1])\n",
    "            avg_prev = int((min_prev+max_prev)/2)\n",
    "            dictionary[start] = [avg_prev]\n",
    "        else:\n",
    "            if len(dictionary[start]) ==1:\n",
    "                val = dictionary[start][0]\n",
    "                prev_max = max(dictionary[start-1])\n",
    "                prev_min = min(dictionary[start-1])\n",
    "                if prev_min > val:\n",
    "                    dictionary[start].append(prev_max)\n",
    "                elif prev_max < val:\n",
    "                    dictionary[start].append(prev_min)\n",
    "                else:\n",
    "                    prev_avg = int((prev_max+prev_min)/2)\n",
    "                    dictionary[start].append(prev_avg)   \n",
    "            elif len(dictionary[start]) ==0:\n",
    "                min1 = min(dictionary[start-1]) \n",
    "                max1 = max(dictionary[start-1])\n",
    "                min2 = min(dictionary[start-2]) \n",
    "                max2 = max(dictionary[start-2])\n",
    "                min_avg = int((min1+min2)/2)\n",
    "                max_avg = int((max1+max2)/2)\n",
    "                dictionary[start].append(min_avg)      \n",
    "                dictionary[start].append(max_avg)      \n",
    "        start +=1\n",
    "    return dictionary"
   ]
  },
  {
   "cell_type": "code",
   "execution_count": 14,
   "id": "cd0894f8",
   "metadata": {},
   "outputs": [],
   "source": [
    "# makes sure the boundary is intact\n",
    "def check_in_line(dictionary):\n",
    "    iters = min(dictionary) + 3\n",
    "    iters_max = max(dictionary)\n",
    "    while iters < iters_max-2:\n",
    "        prev_iter_min = min(dictionary[iters-3])\n",
    "        prev_iter_max = max(dictionary[iters-3])\n",
    "        iter_min = min(dictionary[iters])\n",
    "        iter_max = max(dictionary[iters])\n",
    "        next_iter_min = min(dictionary[iters+3])\n",
    "        next_iter_max = max(dictionary[iters+3])\n",
    "        avg_iter_min = int((prev_iter_min + next_iter_min)/2)\n",
    "        avg_iter_max = int((prev_iter_max + next_iter_max)/2)\n",
    "        if not prev_iter_min < iter_min < next_iter_max and not prev_iter_max < iter_max < next_iter_max:\n",
    "            dictionary[iters] = [avg_iter_min,avg_iter_max]\n",
    "        elif not prev_iter_min < iter_min < next_iter_max and not prev_iter_max < iter_max < next_iter_max:\n",
    "            dictionary[iters] = [iter_min,avg_iter_max]\n",
    "        elif prev_iter_min < iter_min < next_iter_max and prev_iter_max < iter_max < next_iter_max:\n",
    "            dictionary[iters] = [avg_iter_min,iter_max]\n",
    "        iters +=1\n",
    "    return dictionary"
   ]
  },
  {
   "cell_type": "code",
   "execution_count": 15,
   "id": "309f1e05",
   "metadata": {},
   "outputs": [],
   "source": [
    "# turns a dictionary into a list\n",
    "def dictionary_to_list(dictionary):\n",
    "    iteration = min(dictionary)\n",
    "    end = max(dictionary)\n",
    "    finished_list = []\n",
    "    while iteration <= end:\n",
    "        for element in dictionary[iteration]:\n",
    "            finished_list.append(iteration)\n",
    "            finished_list.append(element)\n",
    "        iteration +=1\n",
    "    return finished_list"
   ]
  },
  {
   "cell_type": "code",
   "execution_count": 16,
   "id": "778f8576",
   "metadata": {},
   "outputs": [],
   "source": [
    "# turns a list into an image\n",
    "def list_to_image(list_of_pixels,size):\n",
    "    image = np.zeros(size)\n",
    "    count = 0\n",
    "    while count < len(list_of_pixels):\n",
    "        image[int(list_of_pixels[count]),int(list_of_pixels[count+1])] = 1\n",
    "        count +=2\n",
    "    return image"
   ]
  },
  {
   "cell_type": "code",
   "execution_count": 17,
   "id": "8ac3a08e",
   "metadata": {},
   "outputs": [],
   "source": [
    "# finds the indexes of pixels\n",
    "def find_indexs(image_slice):\n",
    "    indexs = [];\n",
    "    for i, j in enumerate(image_slice):\n",
    "        if j != 0:\n",
    "            indexs.append(i)\n",
    "    return indexs"
   ]
  },
  {
   "cell_type": "code",
   "execution_count": 18,
   "id": "f7b9036d",
   "metadata": {},
   "outputs": [],
   "source": [
    "# fills in the boundary\n",
    "def fill_data(array):\n",
    "    shape = array.shape\n",
    "    width = shape[0]\n",
    "    array = array.flatten(\"F\")\n",
    "    size = array.size\n",
    "    count = 0\n",
    "    while count < size:\n",
    "        current_slice = array[count:count+width]\n",
    "        indexs = find_indexs(current_slice)\n",
    "        if len(indexs) != 0:\n",
    "            start_index = min(indexs)\n",
    "            end_index = max(indexs)\n",
    "            current_slice[start_index:end_index] = 1\n",
    "            array[count:count+width] = current_slice\n",
    "        count += width\n",
    "    return array.reshape(shape,order='F')"
   ]
  },
  {
   "cell_type": "code",
   "execution_count": 19,
   "id": "f65d8993",
   "metadata": {},
   "outputs": [],
   "source": [
    "def combine_images(list_images):\n",
    "    image_1 = list_images[0]\n",
    "    image_2 = list_images[1]\n",
    "    image_1 = np.transpose(image_1)\n",
    "    image_2 = np.transpose(image_2)\n",
    "    final_image = np.hstack((image_1, image_2))\n",
    "    return final_image"
   ]
  },
  {
   "cell_type": "code",
   "execution_count": 20,
   "id": "226a13e1",
   "metadata": {},
   "outputs": [],
   "source": [
    "def create_segmentation(string):\n",
    "    list_of_ints = clean_string(string)\n",
    "    enlarged_image = increase_image_size(list_of_ints)\n",
    "    dict_x = create_dict(\"x\",enlarged_image)\n",
    "    dict_y = create_dict(\"y\",enlarged_image)\n",
    "    base_image = list_to_image(list_of_ints,(256,256))\n",
    "    gaps = find_gap(dict_x,dict_y)\n",
    "    list_split_image = split_images(gaps,base_image)[0]\n",
    "    sizes = split_images(gaps,base_image)[1]\n",
    "    finished_images = []\n",
    "    for n, a_split_image in enumerate(list_split_image):\n",
    "        list_image = array_to_list(a_split_image)\n",
    "        dictionary_image = list_to_dictionary(list_image)\n",
    "        dictionary_added_empty = add_empty(dictionary_image)\n",
    "        dictionary_with_boundary = fill_boundary(dictionary_added_empty)\n",
    "        dictionary_checked_boundary = check_in_line(dictionary_with_boundary)\n",
    "        finished_list = dictionary_to_list(dictionary_checked_boundary)\n",
    "        finished_image = list_to_image(finished_list,sizes[n])\n",
    "        filled_image = fill_data(finished_image)\n",
    "        finished_images.append(filled_image)\n",
    "    if len(finished_images) > 1:\n",
    "        final_image = combine_images(finished_images)\n",
    "    elif len(finished_images) == 1:\n",
    "        final_image = finished_images[0] \n",
    "    return resize(final_image,(512,512))"
   ]
  },
  {
   "cell_type": "code",
   "execution_count": 21,
   "id": "f5dcdf7b",
   "metadata": {},
   "outputs": [
    {
     "data": {
      "text/plain": [
       "<matplotlib.image.AxesImage at 0x7fd300119790>"
      ]
     },
     "execution_count": 21,
     "metadata": {},
     "output_type": "execute_result"
    },
    {
     "data": {
      "image/png": "[encoded data removed]",
      "text/plain": [
       "<Figure size 432x288 with 1 Axes>"
      ]
     },
     "metadata": {
      "needs_background": "light"
     },
     "output_type": "display_data"
    }
   ],
   "source": [
    "#start image\n",
    "plt.imshow(resize(list_to_image(clean_string(test),(256,256)),(512,512)))"
   ]
  },
  {
   "cell_type": "code",
   "execution_count": 22,
   "id": "5932177a",
   "metadata": {},
   "outputs": [
    {
     "data": {
      "text/plain": [
       "<matplotlib.image.AxesImage at 0x7fd31042b100>"
      ]
     },
     "execution_count": 22,
     "metadata": {},
     "output_type": "execute_result"
    },
    {
     "data": {
      "image/png": "[encoded data removed]",
      "text/plain": [
       "<Figure size 432x288 with 1 Axes>"
      ]
     },
     "metadata": {
      "needs_background": "light"
     },
     "output_type": "display_data"
    }
   ],
   "source": [
    "#end image\n",
    "plt.imshow(create_segmentation(test))"
   ]
  }
 ],
 "metadata": {
  "kernelspec": {
   "display_name": "Python 3",
   "language": "python",
   "name": "python3"
  },
  "language_info": {
   "codemirror_mode": {
    "name": "ipython",
    "version": 3
   },
   "file_extension": ".py",
   "mimetype": "text/x-python",
   "name": "python",
   "nbconvert_exporter": "python",
   "pygments_lexer": "ipython3",
   "version": "3.8.8"
  }
 },
 "nbformat": 4,
 "nbformat_minor": 5
}
