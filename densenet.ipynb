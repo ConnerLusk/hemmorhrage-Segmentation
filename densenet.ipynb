{
 "cells": [
  {
   "cell_type": "code",
   "execution_count": 1,
   "id": "ccfc85bf-7902-4e32-825b-ee105c6a081b",
   "metadata": {},
   "outputs": [],
   "source": [
    "import numpy as np\n",
    "import tensorflow as tf\n",
    "import keras\n",
    "from tensorflow.keras import layers\n",
    "import tensorflow_hub as hub\n",
    "from sklearn.model_selection import train_test_split\n",
    "from keras.utils import np_utils\n",
    "import numpy as np\n",
    "import glob\n",
    "import matplotlib.image\n",
    "from tensorflow.keras.preprocessing.image import load_img\n",
    "from matplotlib import pyplot as plt\n",
    "from sklearn.metrics import ConfusionMatrixDisplay\n",
    "from sklearn.metrics import confusion_matrix"
   ]
  },
  {
   "cell_type": "code",
   "execution_count": 2,
   "id": "fe5b3a1c-a051-4bab-98f7-fe9827a5eb81",
   "metadata": {},
   "outputs": [],
   "source": [
    "data = np.load(\"/home/lusk.c/XN_project/data_pretrained.npy\")\n",
    "y = np.load(\"/home/lusk.c/XN_project/y_pretrained.npy\")"
   ]
  },
  {
   "cell_type": "code",
   "execution_count": 60,
   "id": "68eb190f-fb36-407a-b30e-a8a890bb8809",
   "metadata": {},
   "outputs": [],
   "source": [
    "x_train, x_valid, y_train, y_valid = train_test_split(data, y, test_size=0.1, random_state=0)"
   ]
  },
  {
   "cell_type": "code",
   "execution_count": 61,
   "id": "7745ab94-94c6-48a2-a599-1cbc7dccbb95",
   "metadata": {},
   "outputs": [],
   "source": [
    "y_train = np_utils.to_categorical(y_train, 7)\n",
    "y_valid = np_utils.to_categorical(y_valid, 7)"
   ]
  },
  {
   "cell_type": "code",
   "execution_count": 5,
   "id": "fdedcc9f-a9a6-4ba8-994a-92b7aeeffdc2",
   "metadata": {},
   "outputs": [],
   "source": [
    "from PIL import Image\n",
    "import matplotlib.pyplot as plt\n",
    "import numpy as np \n",
    "%matplotlib inline\n",
    "from PIL import Image\n",
    "from PIL import ImageFilter\n",
    "import matplotlib.pyplot as plt\n",
    "import numpy as np \n",
    "import glob\n",
    "import pandas as pd\n",
    "import time\n",
    "import random\n",
    "from sklearn.model_selection import train_test_split\n",
    "import tensorflow as tf\n",
    "from tensorflow.keras import datasets, layers, models\n",
    "from PIL import Image, ImageEnhance\n",
    "from tensorflow.keras.layers import Flatten\n",
    "from tensorflow.keras.layers import Dropout\n",
    "from keras.callbacks import LearningRateScheduler\n",
    "from keras.metrics import top_k_categorical_accuracy\n",
    "from tensorflow.keras.layers import Dense, AveragePooling2D\n",
    "from tensorflow.keras.layers import Input\n",
    "from tensorflow.keras.models import Model\n",
    "from tensorflow.keras.optimizers import SGD"
   ]
  },
  {
   "cell_type": "code",
   "execution_count": 8,
   "id": "d1d9d19f-7b31-425c-941f-d73b7e503e04",
   "metadata": {},
   "outputs": [],
   "source": [
    "def lr_scheduler(epoch):\n",
    "    if epoch < 4:\n",
    "        return 0.001\n",
    "    elif epoch < 9:\n",
    "        return .0001\n",
    "    elif epoch < 16:\n",
    "        return 0.00001\n",
    "    else:\n",
    "        return .0000001\n",
    "scheduler = LearningRateScheduler(lr_scheduler)\n",
    "\n",
    "from tensorflow.keras.applications.densenet import DenseNet201\n",
    "\n",
    "base_model = DenseNet201(weights='imagenet', include_top=False, input_tensor=Input(shape=(224, 224, 3)))\n",
    "\n",
    "import functools\n",
    "top3_acc = functools.partial(top_k_categorical_accuracy, k=3)\n",
    "top3_acc.__name__ = 'top3_acc'\n",
    "\n",
    "x = base_model.output\n",
    "x = AveragePooling2D()(x)\n",
    "x = Dropout(.5)(x)\n",
    "x = Flatten()(x)\n",
    "predictions = Dense(7, activation='softmax')(x)\n",
    "\n",
    "\n",
    "model = Model(inputs=base_model.input, outputs=predictions)\n",
    "\n",
    "# first: train only the top layers (which were randomly initialized)\n",
    "# i.e. freeze all convolutional InceptionV3 layers\n",
    "#for layer in base_model.layers:\n",
    " #   layer.trainable = False\n",
    "\n",
    "# compile the model (should be done *after* setting layers to non-trainable)\n",
    "model.compile(SGD(learning_rate=0.001, momentum=.9), loss='categorical_crossentropy', metrics = [\"accuracy\", top3_acc])"
   ]
  },
  {
   "cell_type": "code",
   "execution_count": 9,
   "id": "9e31f318-bf09-4a93-af45-53fbeffa155f",
   "metadata": {},
   "outputs": [
    {
     "name": "stdout",
     "output_type": "stream",
     "text": [
      "Epoch 1/6\n",
      "1933/1933 [==============================] - 13202s 7s/step - loss: 1.4355 - accuracy: 0.4640 - top3_acc: 0.8124 - val_loss: 1.1679 - val_accuracy: 0.5533 - val_top3_acc: 0.8728 - lr: 0.0010\n",
      "Epoch 2/6\n",
      "1933/1933 [==============================] - 13002s 7s/step - loss: 0.9985 - accuracy: 0.6294 - top3_acc: 0.9090 - val_loss: 0.9995 - val_accuracy: 0.6149 - val_top3_acc: 0.9073 - lr: 0.0010\n",
      "Epoch 3/6\n",
      "1933/1933 [==============================] - 12993s 7s/step - loss: 0.8360 - accuracy: 0.6948 - top3_acc: 0.9349 - val_loss: 0.8942 - val_accuracy: 0.6755 - val_top3_acc: 0.9281 - lr: 0.0010\n",
      "Epoch 4/6\n",
      "1933/1933 [==============================] - 13069s 7s/step - loss: 0.6940 - accuracy: 0.7487 - top3_acc: 0.9525 - val_loss: 0.8429 - val_accuracy: 0.6995 - val_top3_acc: 0.9361 - lr: 0.0010\n",
      "Epoch 5/6\n",
      "1933/1933 [==============================] - 12794s 7s/step - loss: 0.3892 - accuracy: 0.8657 - top3_acc: 0.9792 - val_loss: 0.7165 - val_accuracy: 0.7625 - val_top3_acc: 0.9536 - lr: 1.0000e-04\n",
      "Epoch 6/6\n",
      "1933/1933 [==============================] - 12891s 7s/step - loss: 0.2852 - accuracy: 0.9031 - top3_acc: 0.9872 - val_loss: 0.7241 - val_accuracy: 0.7688 - val_top3_acc: 0.9529 - lr: 1.0000e-04\n"
     ]
    }
   ],
   "source": [
    "hist = model.fit(x_train,y_train, epochs = 6, validation_data = (x_valid,y_valid), workers=8, callbacks=[scheduler])"
   ]
  },
  {
   "cell_type": "code",
   "execution_count": 10,
   "id": "5b5f4ad9-6da7-4384-ae03-378f7c8c6059",
   "metadata": {},
   "outputs": [
    {
     "data": {
      "image/png": "[encoded data removed]",
      "text/plain": [
       "<Figure size 432x288 with 1 Axes>"
      ]
     },
     "metadata": {
      "needs_background": "light"
     },
     "output_type": "display_data"
    }
   ],
   "source": [
    "plt.plot(hist.history['accuracy'])\n",
    "plt.plot(hist.history['val_accuracy'])\n",
    "plt.title('model accuracy')\n",
    "plt.ylabel('accuracy')\n",
    "plt.xlabel('epoch')\n",
    "plt.legend(['train', 'test'], loc='upper left')\n",
    "plt.show()"
   ]
  },
  {
   "cell_type": "code",
   "execution_count": 54,
   "id": "3027315e-04e9-498a-ae09-8b112fdcd75e",
   "metadata": {},
   "outputs": [],
   "source": [
    "model.save('/home/lusk.c/XN_project/densenet.h5')\n"
   ]
  }
 ],
 "metadata": {
  "kernelspec": {
   "display_name": "Python 3",
   "language": "python",
   "name": "python3"
  },
  "language_info": {
   "codemirror_mode": {
    "name": "ipython",
    "version": 3
   },
   "file_extension": ".py",
   "mimetype": "text/x-python",
   "name": "python",
   "nbconvert_exporter": "python",
   "pygments_lexer": "ipython3",
   "version": "3.8.8"
  }
 },
 "nbformat": 4,
 "nbformat_minor": 5
}
